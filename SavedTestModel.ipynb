{
 "cells": [
  {
   "cell_type": "code",
   "execution_count": 4,
   "metadata": {
    "id": "gBM380HJoAPj"
   },
   "outputs": [],
   "source": [
    "import keras"
   ]
  },
  {
   "cell_type": "code",
   "execution_count": null,
   "metadata": {
    "id": "HI3EGUt8HQz1"
   },
   "outputs": [],
   "source": [
    "!pip install keras-nlp"
   ]
  },
  {
   "cell_type": "code",
   "execution_count": 6,
   "metadata": {
    "id": "y24Y_rhBHUCX"
   },
   "outputs": [],
   "source": [
    "import keras_nlp"
   ]
  },
  {
   "cell_type": "code",
   "execution_count": 7,
   "metadata": {
    "id": "EzL-KvPlplNT"
   },
   "outputs": [],
   "source": [
    "model_path = \"/content/drive/MyDrive/audiobooks/text_predictor.keras\""
   ]
  },
  {
   "cell_type": "code",
   "execution_count": 8,
   "metadata": {
    "colab": {
     "base_uri": "https://localhost:8080/"
    },
    "id": "mNnBu1Vypm-Z",
    "outputId": "27282650-0b5a-48d8-dcb8-a5f79f2f5462"
   },
   "outputs": [
    {
     "name": "stderr",
     "output_type": "stream",
     "text": [
      "/usr/local/lib/python3.10/dist-packages/keras/src/saving/serialization_lib.py:727: UserWarning: `compile()` was not called as part of model loading because the model's `compile()` method is custom. All subclassed Models that have `compile()` overridden should also override `get_compile_config()` and `compile_from_config(config)`. Alternatively, you can call `compile()` manually after loading.\n",
      "  instance.compile_from_config(compile_config)\n",
      "/usr/local/lib/python3.10/dist-packages/keras/src/saving/saving_lib.py:396: UserWarning: Skipping variable loading for optimizer 'adam', because it has 2 variables whereas the saved optimizer has 10 variables. \n",
      "  trackable.load_own_variables(weights_store.get(inner_path))\n"
     ]
    }
   ],
   "source": [
    "model = keras.models.load_model(model_path)"
   ]
  },
  {
   "cell_type": "code",
   "execution_count": 234,
   "metadata": {
    "id": "Sx5-Pz6UIWax"
   },
   "outputs": [],
   "source": [
    "testString = '''“I can never forget the indescribably crafty shadow that passed over Flatfish's face as he laughed at me,\n",
    "his neck drawn in. It resembled contempt,\n",
    "yet it was different: if the world, like the sea, had depths of a thousand fathoms,\n",
    "this was the kind of weird shadow which might be found hovering here and there at the bottom.\n",
    " It was a laugh which enabled me to catch a glimpse of the very nadir of adult life.”\n",
    "'''"
   ]
  },
  {
   "cell_type": "code",
   "execution_count": 236,
   "metadata": {
    "id": "WXFyvRBoKKAA"
   },
   "outputs": [],
   "source": [
    "import string\n",
    "\n",
    "def remove_punctuation_and_flatten(text):\n",
    "    translator = str.maketrans(string.punctuation, ' ' * len(string.punctuation))\n",
    "    cleaned_text = text.translate(translator)\n",
    "    cleaned_text = ' '.join(cleaned_text.split())\n",
    "    return cleaned_text # Truncate to 200 characters\n",
    "\n",
    "# cleaned_string = remove_punctuation(testString)\n",
    "cleaned_string = remove_punctuation_and_flatten(testString)\n"
   ]
  },
  {
   "cell_type": "code",
   "execution_count": 238,
   "metadata": {
    "id": "_xQUTbC3S5td"
   },
   "outputs": [],
   "source": [
    "cleaned_string = cleaned_string[:100]"
   ]
  },
  {
   "cell_type": "code",
   "execution_count": 240,
   "metadata": {
    "colab": {
     "base_uri": "https://localhost:8080/"
    },
    "id": "hxP5n3VxppNh",
    "outputId": "2a97d767-e54c-4072-abe1-7e18bf011203"
   },
   "outputs": [
    {
     "name": "stdout",
     "output_type": "stream",
     "text": [
      "\u001b[1m1/1\u001b[0m \u001b[32m━━━━━━━━━━━━━━━━━━━━\u001b[0m\u001b[37m\u001b[0m \u001b[1m1s\u001b[0m 1s/step\n"
     ]
    }
   ],
   "source": [
    "prediction = model.predict([cleaned_string])"
   ]
  },
  {
   "cell_type": "code",
   "execution_count": 241,
   "metadata": {
    "colab": {
     "base_uri": "https://localhost:8080/"
    },
    "id": "3MR97ccCpvlm",
    "outputId": "6d2421d3-6790-4b60-b89c-5efa5af82052"
   },
   "outputs": [
    {
     "name": "stdout",
     "output_type": "stream",
     "text": [
      "[[ 1.3276792 -0.9499783]]\n"
     ]
    }
   ],
   "source": [
    "print(prediction)"
   ]
  },
  {
   "cell_type": "code",
   "execution_count": 242,
   "metadata": {
    "colab": {
     "base_uri": "https://localhost:8080/"
    },
    "id": "DXDpzdHcIG2F",
    "outputId": "6cdfdad8-3d44-4d2b-c091-e3ac93756812"
   },
   "outputs": [
    {
     "name": "stdout",
     "output_type": "stream",
     "text": [
      "Human\n"
     ]
    }
   ],
   "source": [
    "\n",
    "if prediction[0, 0] > prediction[0, 1]:\n",
    "  print(\"Human\")\n",
    "elif prediction[0, 1] > prediction[0, 0]:\n",
    "  print(\"AI\")"
   ]
  },
  {
   "cell_type": "code",
   "execution_count": 223,
   "metadata": {
    "id": "eap0IxntIRxO"
   },
   "outputs": [],
   "source": []
  }
 ],
 "metadata": {
  "colab": {
   "provenance": []
  },
  "kernelspec": {
   "display_name": "Python 3 (ipykernel)",
   "language": "python",
   "name": "python3"
  },
  "language_info": {
   "codemirror_mode": {
    "name": "ipython",
    "version": 3
   },
   "file_extension": ".py",
   "mimetype": "text/x-python",
   "name": "python",
   "nbconvert_exporter": "python",
   "pygments_lexer": "ipython3",
   "version": "3.9.13"
  }
 },
 "nbformat": 4,
 "nbformat_minor": 1
}
