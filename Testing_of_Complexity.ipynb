{
  "nbformat": 4,
  "nbformat_minor": 0,
  "metadata": {
    "colab": {
      "provenance": []
    },
    "kernelspec": {
      "name": "python3",
      "display_name": "Python 3"
    },
    "language_info": {
      "name": "python"
    },
    "gpuClass": "standard"
  },
  "cells": [
    {
      "cell_type": "code",
      "source": [
        "pip install textstat"
      ],
      "metadata": {
        "colab": {
          "base_uri": "https://localhost:8080/"
        },
        "id": "kAQXGhnCvogg",
        "outputId": "dffd58f1-a505-44f4-d6cc-e31b9938393c"
      },
      "execution_count": 2,
      "outputs": [
        {
          "output_type": "stream",
          "name": "stdout",
          "text": [
            "Collecting textstat\n",
            "  Downloading textstat-0.7.3-py3-none-any.whl (105 kB)\n",
            "\u001b[2K     \u001b[90m━━━━━━━━━━━━━━━━━━━━━━━━━━━━━━━━━━━━━━━━\u001b[0m \u001b[32m105.1/105.1 kB\u001b[0m \u001b[31m2.1 MB/s\u001b[0m eta \u001b[36m0:00:00\u001b[0m\n",
            "\u001b[?25hCollecting pyphen (from textstat)\n",
            "  Downloading pyphen-0.14.0-py3-none-any.whl (2.0 MB)\n",
            "\u001b[2K     \u001b[90m━━━━━━━━━━━━━━━━━━━━━━━━━━━━━━━━━━━━━━━━\u001b[0m \u001b[32m2.0/2.0 MB\u001b[0m \u001b[31m24.4 MB/s\u001b[0m eta \u001b[36m0:00:00\u001b[0m\n",
            "\u001b[?25hInstalling collected packages: pyphen, textstat\n",
            "Successfully installed pyphen-0.14.0 textstat-0.7.3\n"
          ]
        }
      ]
    },
    {
      "cell_type": "code",
      "source": [
        "import textstat\n",
        "\n",
        "def calculate_complexity(text):\n",
        "    # Calculate readability metrics\n",
        "    flesch_kincaid_grade = textstat.flesch_kincaid_grade(text)\n",
        "    flesch_reading_ease = textstat.flesch_reading_ease(text)\n",
        "    dale_chall = textstat.dale_chall_readability_score(text)\n",
        "    coleman_liau = textstat.coleman_liau_index(text)\n",
        "\n",
        "    # Combine metrics into a composite complexity score (example weights)\n",
        "    composite_score = (\n",
        "        0.4 * flesch_kincaid_grade +\n",
        "        0.3 * flesch_reading_ease +\n",
        "        0.2 * dale_chall +\n",
        "        0.1 * coleman_liau\n",
        "    )\n",
        "\n",
        "    return composite_score"
      ],
      "metadata": {
        "id": "lGZHwS1EqSHh"
      },
      "execution_count": 3,
      "outputs": []
    },
    {
      "cell_type": "code",
      "source": [
        "# Example AI-generated text\n",
        "ai_generated_text = \"The quick brown fox jumps over the lazy dog. This sentence has a readability score.\"\n",
        "\n",
        "# Calculate complexity score\n",
        "complexity_score = calculate_complexity(ai_generated_text)\n",
        "print(\"Complexity Score:\", complexity_score)"
      ],
      "metadata": {
        "colab": {
          "base_uri": "https://localhost:8080/"
        },
        "id": "zXSGHkzIva_6",
        "outputId": "dc03d884-c769-4e5a-c514-e93a92d46607"
      },
      "execution_count": 4,
      "outputs": [
        {
          "output_type": "stream",
          "name": "stdout",
          "text": [
            "Complexity Score: 29.701999999999998\n"
          ]
        }
      ]
    },
    {
      "cell_type": "code",
      "source": [],
      "metadata": {
        "id": "KsuXmx2rvvqP"
      },
      "execution_count": null,
      "outputs": []
    }
  ]
}